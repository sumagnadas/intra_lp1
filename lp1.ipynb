{
 "cells": [
  {
   "cell_type": "code",
   "execution_count": 243,
   "id": "b75d6acc",
   "metadata": {},
   "outputs": [],
   "source": [
    "import pandas as pd\n",
    "import numpy as np\n",
    "import datetime\n",
    "import seaborn as sns"
   ]
  },
  {
   "cell_type": "code",
   "execution_count": 244,
   "id": "38fda5bb",
   "metadata": {},
   "outputs": [],
   "source": [
    "pd.set_option('display.max_columns', 24)"
   ]
  },
  {
   "cell_type": "code",
   "execution_count": 245,
   "id": "cd740b2d",
   "metadata": {},
   "outputs": [
    {
     "data": {
      "text/html": [
       "<div>\n",
       "<style scoped>\n",
       "    .dataframe tbody tr th:only-of-type {\n",
       "        vertical-align: middle;\n",
       "    }\n",
       "\n",
       "    .dataframe tbody tr th {\n",
       "        vertical-align: top;\n",
       "    }\n",
       "\n",
       "    .dataframe thead th {\n",
       "        text-align: right;\n",
       "    }\n",
       "</style>\n",
       "<table border=\"1\" class=\"dataframe\">\n",
       "  <thead>\n",
       "    <tr style=\"text-align: right;\">\n",
       "      <th></th>\n",
       "      <th>Name</th>\n",
       "      <th>Epoch Date Close Approach</th>\n",
       "      <th>Relative Velocity km per sec</th>\n",
       "      <th>Relative Velocity km per hr</th>\n",
       "      <th>Miles per hour</th>\n",
       "      <th>Miss Dist.(Astronomical)</th>\n",
       "      <th>Miss Dist.(lunar)</th>\n",
       "      <th>Miss Dist.(kilometers)</th>\n",
       "      <th>Miss Dist.(miles)</th>\n",
       "      <th>Jupiter Tisserand Invariant</th>\n",
       "      <th>Epoch Osculation</th>\n",
       "      <th>Semi Major Axis</th>\n",
       "      <th>Asc Node Longitude</th>\n",
       "      <th>Perihelion Arg</th>\n",
       "      <th>Aphelion Dist</th>\n",
       "      <th>Perihelion Time</th>\n",
       "      <th>Mean Anomaly</th>\n",
       "      <th>Mean Motion</th>\n",
       "      <th>approach_year</th>\n",
       "      <th>approach_month</th>\n",
       "      <th>approach_day</th>\n",
       "      <th>Orbital Period</th>\n",
       "      <th>Orbit Uncertainity</th>\n",
       "      <th>Hazardous</th>\n",
       "    </tr>\n",
       "  </thead>\n",
       "  <tbody>\n",
       "    <tr>\n",
       "      <th>0</th>\n",
       "      <td>3703080</td>\n",
       "      <td>7.889472e+11</td>\n",
       "      <td>Very Slow</td>\n",
       "      <td>22017.003799</td>\n",
       "      <td>13680.509944</td>\n",
       "      <td>0.419483</td>\n",
       "      <td>163.178711</td>\n",
       "      <td>62753692.0</td>\n",
       "      <td>38993336.0</td>\n",
       "      <td>NaN</td>\n",
       "      <td>NaN</td>\n",
       "      <td>1.407011</td>\n",
       "      <td>314.373913</td>\n",
       "      <td>57.257470</td>\n",
       "      <td>2.005764</td>\n",
       "      <td>NaN</td>\n",
       "      <td>264.837533</td>\n",
       "      <td>0.590551</td>\n",
       "      <td>NaN</td>\n",
       "      <td>1.0</td>\n",
       "      <td>1.0</td>\n",
       "      <td>Low</td>\n",
       "      <td>Medium</td>\n",
       "      <td>True</td>\n",
       "    </tr>\n",
       "    <tr>\n",
       "      <th>1</th>\n",
       "      <td>3723955</td>\n",
       "      <td>NaN</td>\n",
       "      <td>Slow</td>\n",
       "      <td>65210.346095</td>\n",
       "      <td>40519.173105</td>\n",
       "      <td>NaN</td>\n",
       "      <td>NaN</td>\n",
       "      <td>57298148.0</td>\n",
       "      <td>35603420.0</td>\n",
       "      <td>NaN</td>\n",
       "      <td>2458000.5</td>\n",
       "      <td>1.107776</td>\n",
       "      <td>136.717242</td>\n",
       "      <td>NaN</td>\n",
       "      <td>1.497352</td>\n",
       "      <td>2.457795e+06</td>\n",
       "      <td>173.741112</td>\n",
       "      <td>0.845330</td>\n",
       "      <td>1995.0</td>\n",
       "      <td>1.0</td>\n",
       "      <td>1.0</td>\n",
       "      <td>Low</td>\n",
       "      <td>NaN</td>\n",
       "      <td>False</td>\n",
       "    </tr>\n",
       "    <tr>\n",
       "      <th>2</th>\n",
       "      <td>2446862</td>\n",
       "      <td>7.895520e+11</td>\n",
       "      <td>NaN</td>\n",
       "      <td>27326.560182</td>\n",
       "      <td>16979.661798</td>\n",
       "      <td>0.050956</td>\n",
       "      <td>19.821890</td>\n",
       "      <td>7622911.5</td>\n",
       "      <td>4736657.5</td>\n",
       "      <td>4.557</td>\n",
       "      <td>2458000.5</td>\n",
       "      <td>1.458824</td>\n",
       "      <td>259.475979</td>\n",
       "      <td>248.415038</td>\n",
       "      <td>1.966857</td>\n",
       "      <td>2.458120e+06</td>\n",
       "      <td>NaN</td>\n",
       "      <td>NaN</td>\n",
       "      <td>1995.0</td>\n",
       "      <td>NaN</td>\n",
       "      <td>8.0</td>\n",
       "      <td>Medium</td>\n",
       "      <td>NaN</td>\n",
       "      <td>True</td>\n",
       "    </tr>\n",
       "    <tr>\n",
       "      <th>3</th>\n",
       "      <td>3092506</td>\n",
       "      <td>7.901568e+11</td>\n",
       "      <td>Very Slow</td>\n",
       "      <td>40225.948191</td>\n",
       "      <td>24994.839864</td>\n",
       "      <td>NaN</td>\n",
       "      <td>NaN</td>\n",
       "      <td>NaN</td>\n",
       "      <td>26522368.0</td>\n",
       "      <td>5.093</td>\n",
       "      <td>2458000.5</td>\n",
       "      <td>NaN</td>\n",
       "      <td>57.173266</td>\n",
       "      <td>NaN</td>\n",
       "      <td>1.527904</td>\n",
       "      <td>2.457902e+06</td>\n",
       "      <td>68.741007</td>\n",
       "      <td>0.700277</td>\n",
       "      <td>1995.0</td>\n",
       "      <td>NaN</td>\n",
       "      <td>15.0</td>\n",
       "      <td>Low</td>\n",
       "      <td>Medium</td>\n",
       "      <td>False</td>\n",
       "    </tr>\n",
       "    <tr>\n",
       "      <th>4</th>\n",
       "      <td>3514799</td>\n",
       "      <td>7.901568e+11</td>\n",
       "      <td>Very Slow</td>\n",
       "      <td>35426.991794</td>\n",
       "      <td>NaN</td>\n",
       "      <td>0.407832</td>\n",
       "      <td>158.646713</td>\n",
       "      <td>61010824.0</td>\n",
       "      <td>NaN</td>\n",
       "      <td>5.154</td>\n",
       "      <td>NaN</td>\n",
       "      <td>1.225615</td>\n",
       "      <td>84.629307</td>\n",
       "      <td>158.263596</td>\n",
       "      <td>NaN</td>\n",
       "      <td>2.457814e+06</td>\n",
       "      <td>NaN</td>\n",
       "      <td>NaN</td>\n",
       "      <td>NaN</td>\n",
       "      <td>NaN</td>\n",
       "      <td>15.0</td>\n",
       "      <td>NaN</td>\n",
       "      <td>Low</td>\n",
       "      <td>True</td>\n",
       "    </tr>\n",
       "  </tbody>\n",
       "</table>\n",
       "</div>"
      ],
      "text/plain": [
       "      Name  Epoch Date Close Approach Relative Velocity km per sec  \\\n",
       "0  3703080               7.889472e+11                    Very Slow   \n",
       "1  3723955                        NaN                         Slow   \n",
       "2  2446862               7.895520e+11                          NaN   \n",
       "3  3092506               7.901568e+11                    Very Slow   \n",
       "4  3514799               7.901568e+11                    Very Slow   \n",
       "\n",
       "   Relative Velocity km per hr  Miles per hour  Miss Dist.(Astronomical)  \\\n",
       "0                 22017.003799    13680.509944                  0.419483   \n",
       "1                 65210.346095    40519.173105                       NaN   \n",
       "2                 27326.560182    16979.661798                  0.050956   \n",
       "3                 40225.948191    24994.839864                       NaN   \n",
       "4                 35426.991794             NaN                  0.407832   \n",
       "\n",
       "   Miss Dist.(lunar)  Miss Dist.(kilometers)  Miss Dist.(miles)  \\\n",
       "0         163.178711              62753692.0         38993336.0   \n",
       "1                NaN              57298148.0         35603420.0   \n",
       "2          19.821890               7622911.5          4736657.5   \n",
       "3                NaN                     NaN         26522368.0   \n",
       "4         158.646713              61010824.0                NaN   \n",
       "\n",
       "   Jupiter Tisserand Invariant  Epoch Osculation  Semi Major Axis  \\\n",
       "0                          NaN               NaN         1.407011   \n",
       "1                          NaN         2458000.5         1.107776   \n",
       "2                        4.557         2458000.5         1.458824   \n",
       "3                        5.093         2458000.5              NaN   \n",
       "4                        5.154               NaN         1.225615   \n",
       "\n",
       "   Asc Node Longitude  Perihelion Arg  Aphelion Dist  Perihelion Time  \\\n",
       "0          314.373913       57.257470       2.005764              NaN   \n",
       "1          136.717242             NaN       1.497352     2.457795e+06   \n",
       "2          259.475979      248.415038       1.966857     2.458120e+06   \n",
       "3           57.173266             NaN       1.527904     2.457902e+06   \n",
       "4           84.629307      158.263596            NaN     2.457814e+06   \n",
       "\n",
       "   Mean Anomaly  Mean Motion  approach_year  approach_month  approach_day  \\\n",
       "0    264.837533     0.590551            NaN             1.0           1.0   \n",
       "1    173.741112     0.845330         1995.0             1.0           1.0   \n",
       "2           NaN          NaN         1995.0             NaN           8.0   \n",
       "3     68.741007     0.700277         1995.0             NaN          15.0   \n",
       "4           NaN          NaN            NaN             NaN          15.0   \n",
       "\n",
       "  Orbital Period Orbit Uncertainity  Hazardous  \n",
       "0            Low             Medium       True  \n",
       "1            Low                NaN      False  \n",
       "2         Medium                NaN       True  \n",
       "3            Low             Medium      False  \n",
       "4            NaN                Low       True  "
      ]
     },
     "execution_count": 245,
     "metadata": {},
     "output_type": "execute_result"
    }
   ],
   "source": [
    "data = pd.read_csv(\"data/Dataset_PS2.csv\")\n",
    "data.head(5)"
   ]
  },
  {
   "cell_type": "code",
   "execution_count": 246,
   "id": "08df4978",
   "metadata": {},
   "outputs": [
    {
     "data": {
      "text/plain": [
       "Name                               0\n",
       "Epoch Date Close Approach       1254\n",
       "Relative Velocity km per sec    1350\n",
       "Relative Velocity km per hr     1501\n",
       "Miles per hour                   866\n",
       "Miss Dist.(Astronomical)         601\n",
       "Miss Dist.(lunar)               1117\n",
       "Miss Dist.(kilometers)          1368\n",
       "Miss Dist.(miles)                652\n",
       "Jupiter Tisserand Invariant     1732\n",
       "Epoch Osculation                1527\n",
       "Semi Major Axis                 1188\n",
       "Asc Node Longitude              1096\n",
       "Perihelion Arg                  1134\n",
       "Aphelion Dist                    815\n",
       "Perihelion Time                 1564\n",
       "Mean Anomaly                     918\n",
       "Mean Motion                     1508\n",
       "approach_year                    819\n",
       "approach_month                  1528\n",
       "approach_day                     543\n",
       "Orbital Period                   530\n",
       "Orbit Uncertainity              1767\n",
       "Hazardous                          0\n",
       "dtype: int64"
      ]
     },
     "execution_count": 246,
     "metadata": {},
     "output_type": "execute_result"
    }
   ],
   "source": [
    "data.apply(pd.isna,axis=0).apply(pd.Series.sum)"
   ]
  },
  {
   "cell_type": "code",
   "execution_count": 247,
   "id": "6efe4b8e",
   "metadata": {},
   "outputs": [
    {
     "name": "stdout",
     "output_type": "stream",
     "text": [
      "Name                                   3703080\n",
      "Epoch Date Close Approach       788947200000.0\n",
      "Relative Velocity km per sec         Very Slow\n",
      "Relative Velocity km per hr       22017.003799\n",
      "Miles per hour                    13680.509944\n",
      "Miss Dist.(Astronomical)              0.419483\n",
      "Miss Dist.(lunar)                   163.178711\n",
      "Miss Dist.(kilometers)              62753692.0\n",
      "Miss Dist.(miles)                   38993336.0\n",
      "Jupiter Tisserand Invariant              empty\n",
      "Epoch Osculation                         empty\n",
      "Semi Major Axis                       1.407011\n",
      "Asc Node Longitude                  314.373913\n",
      "Perihelion Arg                        57.25747\n",
      "Aphelion Dist                         2.005764\n",
      "Perihelion Time                          empty\n",
      "Mean Anomaly                        264.837533\n",
      "Mean Motion                           0.590551\n",
      "approach_year                            empty\n",
      "approach_month                             1.0\n",
      "approach_day                               1.0\n",
      "Orbital Period                             Low\n",
      "Orbit Uncertainity                      Medium\n",
      "Hazardous                                 True\n",
      "Name: 0, dtype: object\n"
     ]
    },
    {
     "data": {
      "text/plain": [
       "Index([False, False, False, True], dtype='bool')"
      ]
     },
     "execution_count": 247,
     "metadata": {},
     "output_type": "execute_result"
    }
   ],
   "source": [
    "cond_check = data.iloc[0]\n",
    "cond_check = cond_check.fillna(\"empty\")\n",
    "print(cond_check)\n",
    "cond_check[cond_check == \"empty\"].index.map(lambda x: x in [\"approach_year\",\"approach_month\",\"approach_day\"])"
   ]
  },
  {
   "cell_type": "code",
   "execution_count": 248,
   "id": "b348c7b8",
   "metadata": {},
   "outputs": [],
   "source": [
    "def fillApproachDate(data: pd.Series):\n",
    "    cond_check = data\n",
    "    cond_check = cond_check.fillna(\"empty\")\n",
    "    contains_epoch = not cond_check['Epoch Date Close Approach'] == \"empty\"\n",
    "    contains_date = not cond_check[cond_check == \"empty\"].index.map(lambda x: x in [\"approach_year\",\"approach_month\",\"approach_day\"]).any()\n",
    "    if(contains_epoch and not contains_date):\n",
    "        actual_date = datetime.datetime.fromtimestamp(data['Epoch Date Close Approach'] / 1000)\n",
    "        data.approach_day = actual_date.day\n",
    "        data.approach_month = actual_date.month\n",
    "        data.approach_year = actual_date.year\n",
    "    elif(contains_date and not contains_epoch):\n",
    "        actual_date = datetime.datetime(int(data.approach_year),int(data.approach_month),int(data.approach_day),0,0,0)\n",
    "        data['Epoch Date Close Approach'] = int(actual_date.timestamp()) * 1000\n",
    "    return data"
   ]
  },
  {
   "cell_type": "code",
   "execution_count": 249,
   "id": "314ef1e9",
   "metadata": {},
   "outputs": [],
   "source": [
    "def classifyRelVel(data:pd.Series,very_slow_min, slow_min,fast_min):\n",
    "    if(pd.isna(data['Relative Velocity km per sec']) and not pd.isna(data['Relative Velocity km per hr'])):\n",
    "        if(data['Relative Velocity km per hr'] < very_slow_min):\n",
    "            data['Relative Velocity km per sec'] = \"Very Slow\"\n",
    "        elif(data['Relative Velocity km per hr'] < slow_min):\n",
    "            data['Relative Velocity km per sec'] = \"Slow\"\n",
    "        elif(data['Relative Velocity km per hr'] < fast_min):\n",
    "            data['Relative Velocity km per sec'] = \"Fast\"\n",
    "        else:\n",
    "            data['Relative Velocity km per sec'] = \"Very Fast\"\n",
    "    return data\n"
   ]
  },
  {
   "cell_type": "code",
   "execution_count": 250,
   "id": "861fdc97",
   "metadata": {},
   "outputs": [
    {
     "name": "stdout",
     "output_type": "stream",
     "text": [
      "<class 'pandas.core.series.Series'>\n",
      "RangeIndex: 4534 entries, 0 to 4533\n",
      "Series name: Relative Velocity km per hr\n",
      "Non-Null Count  Dtype  \n",
      "--------------  -----  \n",
      "3033 non-null   float64\n",
      "dtypes: float64(1)\n",
      "memory usage: 35.6 KB\n"
     ]
    },
    {
     "data": {
      "text/plain": [
       "Relative Velocity km per sec\n",
       "Slow         1455\n",
       "Very Slow    1319\n",
       "Fast          353\n",
       "Very Fast      57\n",
       "Name: count, dtype: int64"
      ]
     },
     "execution_count": 250,
     "metadata": {},
     "output_type": "execute_result"
    }
   ],
   "source": [
    "data = data.apply(fillApproachDate,axis=1)\n",
    "data.head(5)\n",
    "data['Relative Velocity km per hr'].info()\n",
    "data['Relative Velocity km per sec'].value_counts()"
   ]
  },
  {
   "cell_type": "code",
   "execution_count": 251,
   "id": "85edb93e",
   "metadata": {},
   "outputs": [],
   "source": [
    "cat_filt = data.groupby('Relative Velocity km per sec')\n",
    "very_slow_min = cat_filt.get_group('Very Slow')['Relative Velocity km per hr'].min()\n",
    "slow_min = cat_filt.get_group('Slow')['Relative Velocity km per hr'].min()\n",
    "fast_min = cat_filt.get_group('Very Fast')['Relative Velocity km per hr'].min()"
   ]
  },
  {
   "cell_type": "code",
   "execution_count": 252,
   "id": "c525c888",
   "metadata": {},
   "outputs": [
    {
     "name": "stdout",
     "output_type": "stream",
     "text": [
      "<class 'pandas.core.series.Series'>\n",
      "RangeIndex: 4534 entries, 0 to 4533\n",
      "Series name: Relative Velocity km per sec\n",
      "Non-Null Count  Dtype \n",
      "--------------  ----- \n",
      "3184 non-null   object\n",
      "dtypes: object(1)\n",
      "memory usage: 35.6+ KB\n"
     ]
    }
   ],
   "source": [
    "data['Relative Velocity km per sec'].info()"
   ]
  },
  {
   "cell_type": "code",
   "execution_count": 253,
   "id": "350eb116",
   "metadata": {},
   "outputs": [],
   "source": [
    "data = data.apply(lambda x: classifyRelVel(x,very_slow_min,slow_min,fast_min), axis=1)"
   ]
  },
  {
   "cell_type": "code",
   "execution_count": 254,
   "id": "2959f62e",
   "metadata": {},
   "outputs": [
    {
     "name": "stdout",
     "output_type": "stream",
     "text": [
      "<class 'pandas.core.series.Series'>\n",
      "RangeIndex: 4534 entries, 0 to 4533\n",
      "Series name: Miss Dist.(Astronomical)\n",
      "Non-Null Count  Dtype  \n",
      "--------------  -----  \n",
      "3933 non-null   float64\n",
      "dtypes: float64(1)\n",
      "memory usage: 35.6 KB\n"
     ]
    }
   ],
   "source": [
    "data['Miss Dist.(Astronomical)'].info()"
   ]
  },
  {
   "cell_type": "code",
   "execution_count": 255,
   "id": "1eaaadc0",
   "metadata": {},
   "outputs": [
    {
     "data": {
      "text/plain": [
       "np.int64(3703080)"
      ]
     },
     "execution_count": 255,
     "metadata": {},
     "output_type": "execute_result"
    }
   ],
   "source": [
    "data.iloc[0,0]"
   ]
  },
  {
   "cell_type": "code",
   "execution_count": 256,
   "id": "8384baee",
   "metadata": {},
   "outputs": [
    {
     "name": "stdout",
     "output_type": "stream",
     "text": [
      "4       158.646713\n",
      "7        50.250694\n",
      "8              NaN\n",
      "11      167.665054\n",
      "22       18.882595\n",
      "           ...    \n",
      "4488    173.977036\n",
      "4493           NaN\n",
      "4503     98.726303\n",
      "4524     15.566989\n",
      "4529           NaN\n",
      "Name: Miss Dist.(lunar), Length: 652, dtype: float64\n"
     ]
    }
   ],
   "source": [
    "data['Miss Dist.(kilometers)'] = data['Miss Dist.(miles)'] * 1.609344\n",
    "print(data[data['Miss Dist.(kilometers)'].isna()]['Miss Dist.(lunar)'])\n",
    "current = data['Miss Dist.(kilometers)'].isna()\n",
    "data.loc[current, 'Miss Dist.(kilometers)'] = data[current]['Miss Dist.(lunar)'] * 384400\n",
    "current = data['Miss Dist.(kilometers)'].isna()\n",
    "data.loc[current,'Miss Dist.(kilometers)'] = data[current]['Miss Dist.(Astronomical)'] * 149597700.02598438\n",
    "current = data['Miss Dist.(Astronomical)'].isna()\n",
    "data.loc[current,'Miss Dist.(Astronomical)'] = data[current]['Miss Dist.(kilometers)'] / 149597700.02598438\n",
    "data['Miss Dist.(Astronomical)'].count()\n",
    "data = data.drop(columns=['Miss Dist.(kilometers)','Miss Dist.(lunar)','Miss Dist.(miles)'])"
   ]
  },
  {
   "cell_type": "code",
   "execution_count": 257,
   "id": "15e85f03",
   "metadata": {},
   "outputs": [
    {
     "data": {
      "text/plain": [
       "Name                               0\n",
       "Epoch Date Close Approach        644\n",
       "Relative Velocity km per sec     455\n",
       "Relative Velocity km per hr     1501\n",
       "Miles per hour                   866\n",
       "Miss Dist.(Astronomical)          32\n",
       "Jupiter Tisserand Invariant     1732\n",
       "Epoch Osculation                1527\n",
       "Semi Major Axis                 1188\n",
       "Asc Node Longitude              1096\n",
       "Perihelion Arg                  1134\n",
       "Aphelion Dist                    815\n",
       "Perihelion Time                 1564\n",
       "Mean Anomaly                     918\n",
       "Mean Motion                     1508\n",
       "approach_year                    205\n",
       "approach_month                   428\n",
       "approach_day                     163\n",
       "Orbital Period                   530\n",
       "Orbit Uncertainity              1767\n",
       "Hazardous                          0\n",
       "dtype: int64"
      ]
     },
     "execution_count": 257,
     "metadata": {},
     "output_type": "execute_result"
    }
   ],
   "source": [
    "data.apply(pd.isna,axis=0).apply(pd.Series.sum)"
   ]
  },
  {
   "cell_type": "code",
   "execution_count": 258,
   "id": "4cad230e",
   "metadata": {},
   "outputs": [
    {
     "data": {
      "text/plain": [
       "Semi Major Axis    1.407011\n",
       "Mean Motion        0.590551\n",
       "Name: 0, dtype: float64"
      ]
     },
     "execution_count": 258,
     "metadata": {},
     "output_type": "execute_result"
    }
   ],
   "source": [
    "data[data['Mean Motion'].notna() & data['Semi Major Axis'].notna()][['Semi Major Axis','Mean Motion']].loc[0]"
   ]
  },
  {
   "cell_type": "code",
   "execution_count": 259,
   "id": "e58982cc",
   "metadata": {},
   "outputs": [],
   "source": [
    "def fillMeanMotion(data: pd.DataFrame):\n",
    "    constant_data = data[data['Mean Motion'].notna() & data['Semi Major Axis'].notna()][['Semi Major Axis','Mean Motion']].loc[0]\n",
    "    constant_mul = constant_data['Mean Motion'] * (constant_data['Semi Major Axis'] ** (3/2))\n",
    "    data['Mean Motion'] = constant_mul / (data['Semi Major Axis'] ** (3/2))\n",
    "    return data"
   ]
  },
  {
   "cell_type": "code",
   "execution_count": 260,
   "id": "c88b82e8",
   "metadata": {},
   "outputs": [
    {
     "data": {
      "text/html": [
       "<div>\n",
       "<style scoped>\n",
       "    .dataframe tbody tr th:only-of-type {\n",
       "        vertical-align: middle;\n",
       "    }\n",
       "\n",
       "    .dataframe tbody tr th {\n",
       "        vertical-align: top;\n",
       "    }\n",
       "\n",
       "    .dataframe thead th {\n",
       "        text-align: right;\n",
       "    }\n",
       "</style>\n",
       "<table border=\"1\" class=\"dataframe\">\n",
       "  <thead>\n",
       "    <tr style=\"text-align: right;\">\n",
       "      <th></th>\n",
       "      <th>Name</th>\n",
       "      <th>Epoch Date Close Approach</th>\n",
       "      <th>Relative Velocity km per sec</th>\n",
       "      <th>Relative Velocity km per hr</th>\n",
       "      <th>Miles per hour</th>\n",
       "      <th>Miss Dist.(Astronomical)</th>\n",
       "      <th>Jupiter Tisserand Invariant</th>\n",
       "      <th>Epoch Osculation</th>\n",
       "      <th>Semi Major Axis</th>\n",
       "      <th>Asc Node Longitude</th>\n",
       "      <th>Perihelion Arg</th>\n",
       "      <th>Aphelion Dist</th>\n",
       "      <th>Perihelion Time</th>\n",
       "      <th>Mean Anomaly</th>\n",
       "      <th>Mean Motion</th>\n",
       "      <th>approach_year</th>\n",
       "      <th>approach_month</th>\n",
       "      <th>approach_day</th>\n",
       "      <th>Orbital Period</th>\n",
       "      <th>Orbit Uncertainity</th>\n",
       "      <th>Hazardous</th>\n",
       "    </tr>\n",
       "  </thead>\n",
       "  <tbody>\n",
       "    <tr>\n",
       "      <th>0</th>\n",
       "      <td>3703080</td>\n",
       "      <td>7.889472e+11</td>\n",
       "      <td>Very Slow</td>\n",
       "      <td>22017.003799</td>\n",
       "      <td>13680.509944</td>\n",
       "      <td>0.419483</td>\n",
       "      <td>NaN</td>\n",
       "      <td>NaN</td>\n",
       "      <td>1.407011</td>\n",
       "      <td>314.373913</td>\n",
       "      <td>57.257470</td>\n",
       "      <td>2.005764</td>\n",
       "      <td>NaN</td>\n",
       "      <td>264.837533</td>\n",
       "      <td>0.590551</td>\n",
       "      <td>1995.0</td>\n",
       "      <td>1.0</td>\n",
       "      <td>1.0</td>\n",
       "      <td>Low</td>\n",
       "      <td>Medium</td>\n",
       "      <td>True</td>\n",
       "    </tr>\n",
       "    <tr>\n",
       "      <th>1</th>\n",
       "      <td>3723955</td>\n",
       "      <td>7.888986e+11</td>\n",
       "      <td>Slow</td>\n",
       "      <td>65210.346095</td>\n",
       "      <td>40519.173105</td>\n",
       "      <td>0.383015</td>\n",
       "      <td>NaN</td>\n",
       "      <td>2458000.5</td>\n",
       "      <td>1.107776</td>\n",
       "      <td>136.717242</td>\n",
       "      <td>NaN</td>\n",
       "      <td>1.497352</td>\n",
       "      <td>2.457795e+06</td>\n",
       "      <td>173.741112</td>\n",
       "      <td>0.845330</td>\n",
       "      <td>1995.0</td>\n",
       "      <td>1.0</td>\n",
       "      <td>1.0</td>\n",
       "      <td>Low</td>\n",
       "      <td>NaN</td>\n",
       "      <td>False</td>\n",
       "    </tr>\n",
       "    <tr>\n",
       "      <th>2</th>\n",
       "      <td>2446862</td>\n",
       "      <td>7.895520e+11</td>\n",
       "      <td>Slow</td>\n",
       "      <td>27326.560182</td>\n",
       "      <td>16979.661798</td>\n",
       "      <td>0.050956</td>\n",
       "      <td>4.557</td>\n",
       "      <td>2458000.5</td>\n",
       "      <td>1.458824</td>\n",
       "      <td>259.475979</td>\n",
       "      <td>248.415038</td>\n",
       "      <td>1.966857</td>\n",
       "      <td>2.458120e+06</td>\n",
       "      <td>NaN</td>\n",
       "      <td>NaN</td>\n",
       "      <td>1995.0</td>\n",
       "      <td>1.0</td>\n",
       "      <td>8.0</td>\n",
       "      <td>Medium</td>\n",
       "      <td>NaN</td>\n",
       "      <td>True</td>\n",
       "    </tr>\n",
       "    <tr>\n",
       "      <th>3</th>\n",
       "      <td>3092506</td>\n",
       "      <td>7.901568e+11</td>\n",
       "      <td>Very Slow</td>\n",
       "      <td>40225.948191</td>\n",
       "      <td>24994.839864</td>\n",
       "      <td>0.285323</td>\n",
       "      <td>5.093</td>\n",
       "      <td>2458000.5</td>\n",
       "      <td>NaN</td>\n",
       "      <td>57.173266</td>\n",
       "      <td>NaN</td>\n",
       "      <td>1.527904</td>\n",
       "      <td>2.457902e+06</td>\n",
       "      <td>68.741007</td>\n",
       "      <td>0.700277</td>\n",
       "      <td>1995.0</td>\n",
       "      <td>1.0</td>\n",
       "      <td>15.0</td>\n",
       "      <td>Low</td>\n",
       "      <td>Medium</td>\n",
       "      <td>False</td>\n",
       "    </tr>\n",
       "    <tr>\n",
       "      <th>4</th>\n",
       "      <td>3514799</td>\n",
       "      <td>7.901568e+11</td>\n",
       "      <td>Very Slow</td>\n",
       "      <td>35426.991794</td>\n",
       "      <td>NaN</td>\n",
       "      <td>0.407832</td>\n",
       "      <td>5.154</td>\n",
       "      <td>NaN</td>\n",
       "      <td>1.225615</td>\n",
       "      <td>84.629307</td>\n",
       "      <td>158.263596</td>\n",
       "      <td>NaN</td>\n",
       "      <td>2.457814e+06</td>\n",
       "      <td>NaN</td>\n",
       "      <td>NaN</td>\n",
       "      <td>1995.0</td>\n",
       "      <td>1.0</td>\n",
       "      <td>15.0</td>\n",
       "      <td>NaN</td>\n",
       "      <td>Low</td>\n",
       "      <td>True</td>\n",
       "    </tr>\n",
       "  </tbody>\n",
       "</table>\n",
       "</div>"
      ],
      "text/plain": [
       "      Name  Epoch Date Close Approach Relative Velocity km per sec  \\\n",
       "0  3703080               7.889472e+11                    Very Slow   \n",
       "1  3723955               7.888986e+11                         Slow   \n",
       "2  2446862               7.895520e+11                         Slow   \n",
       "3  3092506               7.901568e+11                    Very Slow   \n",
       "4  3514799               7.901568e+11                    Very Slow   \n",
       "\n",
       "   Relative Velocity km per hr  Miles per hour  Miss Dist.(Astronomical)  \\\n",
       "0                 22017.003799    13680.509944                  0.419483   \n",
       "1                 65210.346095    40519.173105                  0.383015   \n",
       "2                 27326.560182    16979.661798                  0.050956   \n",
       "3                 40225.948191    24994.839864                  0.285323   \n",
       "4                 35426.991794             NaN                  0.407832   \n",
       "\n",
       "   Jupiter Tisserand Invariant  Epoch Osculation  Semi Major Axis  \\\n",
       "0                          NaN               NaN         1.407011   \n",
       "1                          NaN         2458000.5         1.107776   \n",
       "2                        4.557         2458000.5         1.458824   \n",
       "3                        5.093         2458000.5              NaN   \n",
       "4                        5.154               NaN         1.225615   \n",
       "\n",
       "   Asc Node Longitude  Perihelion Arg  Aphelion Dist  Perihelion Time  \\\n",
       "0          314.373913       57.257470       2.005764              NaN   \n",
       "1          136.717242             NaN       1.497352     2.457795e+06   \n",
       "2          259.475979      248.415038       1.966857     2.458120e+06   \n",
       "3           57.173266             NaN       1.527904     2.457902e+06   \n",
       "4           84.629307      158.263596            NaN     2.457814e+06   \n",
       "\n",
       "   Mean Anomaly  Mean Motion  approach_year  approach_month  approach_day  \\\n",
       "0    264.837533     0.590551         1995.0             1.0           1.0   \n",
       "1    173.741112     0.845330         1995.0             1.0           1.0   \n",
       "2           NaN          NaN         1995.0             1.0           8.0   \n",
       "3     68.741007     0.700277         1995.0             1.0          15.0   \n",
       "4           NaN          NaN         1995.0             1.0          15.0   \n",
       "\n",
       "  Orbital Period Orbit Uncertainity  Hazardous  \n",
       "0            Low             Medium       True  \n",
       "1            Low                NaN      False  \n",
       "2         Medium                NaN       True  \n",
       "3            Low             Medium      False  \n",
       "4            NaN                Low       True  "
      ]
     },
     "execution_count": 260,
     "metadata": {},
     "output_type": "execute_result"
    }
   ],
   "source": [
    "data.head(5)"
   ]
  },
  {
   "cell_type": "code",
   "execution_count": 261,
   "id": "e51eeeaf",
   "metadata": {},
   "outputs": [
    {
     "data": {
      "text/plain": [
       "<Axes: >"
      ]
     },
     "execution_count": 261,
     "metadata": {},
     "output_type": "execute_result"
    },
    {
     "data": {
      "image/png": "[encoded data removed]",
      "text/plain": [
       "<Figure size 640x480 with 2 Axes>"
      ]
     },
     "metadata": {},
     "output_type": "display_data"
    }
   ],
   "source": [
    "sns.heatmap(data.select_dtypes(exclude=['object','bool']).drop(columns=['Epoch Date Close Approach','Relative Velocity km per hr', 'Miles per hour', 'approach_day','approach_year','approach_month']).corr())"
   ]
  },
  {
   "cell_type": "code",
   "execution_count": 262,
   "id": "8a033b76",
   "metadata": {},
   "outputs": [
    {
     "data": {
      "text/plain": [
       "<Axes: xlabel='Mean Motion', ylabel='Semi Major Axis'>"
      ]
     },
     "execution_count": 262,
     "metadata": {},
     "output_type": "execute_result"
    },
    {
     "data": {
      "image/png": "[encoded data removed]",
      "text/plain": [
       "<Figure size 640x480 with 1 Axes>"
      ]
     },
     "metadata": {},
     "output_type": "display_data"
    }
   ],
   "source": [
    "sns.scatterplot(data,x='Mean Motion', y=\"Semi Major Axis\")"
   ]
  },
  {
   "cell_type": "code",
   "execution_count": 263,
   "id": "66bb016f",
   "metadata": {},
   "outputs": [
    {
     "data": {
      "text/plain": [
       "Name                               0\n",
       "Epoch Date Close Approach        644\n",
       "Relative Velocity km per sec     455\n",
       "Relative Velocity km per hr     1501\n",
       "Miles per hour                   866\n",
       "Miss Dist.(Astronomical)          32\n",
       "Jupiter Tisserand Invariant     1732\n",
       "Epoch Osculation                1527\n",
       "Semi Major Axis                 1188\n",
       "Asc Node Longitude              1096\n",
       "Perihelion Arg                  1134\n",
       "Aphelion Dist                    815\n",
       "Perihelion Time                 1564\n",
       "Mean Anomaly                     918\n",
       "Mean Motion                     1188\n",
       "approach_year                    205\n",
       "approach_month                   428\n",
       "approach_day                     163\n",
       "Orbital Period                   530\n",
       "Orbit Uncertainity              1767\n",
       "Hazardous                          0\n",
       "dtype: int64"
      ]
     },
     "execution_count": 263,
     "metadata": {},
     "output_type": "execute_result"
    }
   ],
   "source": [
    "new_data = fillMeanMotion(data)\n",
    "new_data.apply(pd.isna,axis=0).apply(pd.Series.sum)"
   ]
  },
  {
   "cell_type": "code",
   "execution_count": 264,
   "id": "abef4155",
   "metadata": {},
   "outputs": [
    {
     "data": {
      "text/plain": [
       "<Axes: xlabel='Mean Motion', ylabel='Semi Major Axis'>"
      ]
     },
     "execution_count": 264,
     "metadata": {},
     "output_type": "execute_result"
    },
    {
     "data": {
      "image/png": "[encoded data removed]",
      "text/plain": [
       "<Figure size 640x480 with 1 Axes>"
      ]
     },
     "metadata": {},
     "output_type": "display_data"
    }
   ],
   "source": [
    "sns.scatterplot(new_data,x='Mean Motion', y=\"Semi Major Axis\")\n"
   ]
  }
 ],
 "metadata": {
  "kernelspec": {
   "display_name": "aiml",
   "language": "python",
   "name": "python3"
  },
  "language_info": {
   "codemirror_mode": {
    "name": "ipython",
    "version": 3
   },
   "file_extension": ".py",
   "mimetype": "text/x-python",
   "name": "python",
   "nbconvert_exporter": "python",
   "pygments_lexer": "ipython3",
   "version": "3.12.3"
  }
 },
 "nbformat": 4,
 "nbformat_minor": 5
}
